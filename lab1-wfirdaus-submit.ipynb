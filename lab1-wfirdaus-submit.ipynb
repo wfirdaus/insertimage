{
 "cells": [
  {
   "cell_type": "code",
   "execution_count": 102,
   "metadata": {},
   "outputs": [],
   "source": [
    "import math\n",
    "import numpy as np\n",
    "import pandas as pd\n",
    "import matplotlib.pyplot as plt"
   ]
  },
  {
   "cell_type": "markdown",
   "metadata": {},
   "source": [
    "#Define R and h (in meters)"
   ]
  },
  {
   "cell_type": "code",
   "execution_count": 103,
   "metadata": {},
   "outputs": [],
   "source": [
    "R= 6371000\n",
    "h= 1000"
   ]
  },
  {
   "cell_type": "markdown",
   "metadata": {},
   "source": [
    "# ANSWER NO 1\n",
    "Define 11 Points\n",
    "Define North Pole Point (B1,L1,h1)\n",
    "Define South Pole Point (B2,L2,h2)\n",
    "Define Point of Birth (B3,L3,h3)\n",
    "Define Point 4 (B4,L4,h4)\n",
    "Define Point 5 (B5,L5,h5)\n",
    "Define Point 6 (B6,L6,h6)\n",
    "Define Point 7 (B7,L7,h7)\n",
    "Define Point 8 (B8,L8,h8)\n",
    "Define Point 9 (B9,L9,h9)\n",
    "Define Point 10 (B10,L10,h10)\n",
    "Define Point 11 (B11,L11,h11)"
   ]
  },
  {
   "cell_type": "markdown",
   "metadata": {},
   "source": [
    "#B is Longitude\n",
    "#L is Latitude\n",
    "#h is height on the Earth Surface"
   ]
  },
  {
   "cell_type": "code",
   "execution_count": 104,
   "metadata": {},
   "outputs": [],
   "source": [
    "B1=float(135)+float(0)/60+float(0)/3600;\n",
    "L1=float(90)+float(0)/60+float(0)/3600;\n",
    "h1=float(1000);\n",
    "\n",
    "B2=float(45)+float(0)/60+float(0)/3600;\n",
    "L2= float(-90)+float(0)/60+float(0)/3600;\n",
    "h2=float(1000);\n",
    "\n",
    "B3=float(107)+float(3)/60+float(9.1)/3600;\n",
    "L3= float(6)+float(55)/60+float(3.1)/3600;\n",
    "h3=float(1000);\n",
    "\n",
    "B4=float(100)+float(10)/60+float(10.1)/3600;\n",
    "L4= float(10)+float(0)/60+float(10.1)/3600;\n",
    "h4=float(1000);\n",
    "\n",
    "B5=float(110)+float(10)/60+float(10.1)/3600;\n",
    "L5= float(20)+float(10)/60+float(10.1)/3600;\n",
    "h5=float(1000);\n",
    "\n",
    "B6=float(120)+float(10)/60+float(10.1)/3600;\n",
    "L6= float(30)+float(10)/60+float(10.1)/3600;\n",
    "h6=float(1000);\n",
    "\n",
    "B7=float(130)+float(10)/60+float(10.1)/3600;\n",
    "L7= float(40)+float(10)/60+float(10.1)/3600;\n",
    "h7=float(1000);\n",
    "\n",
    "B8=float(140)+float(10)/60+float(10.1)/3600;\n",
    "L8= float(50)+float(10)/60+float(10.1)/3600;\n",
    "h8=float(1000);\n",
    "\n",
    "B9=float(150)+float(10)/60+float(10.1)/3600;\n",
    "L9= float(60)+float(10)/60+float(10.1)/3600;\n",
    "h9=float(1000);\n",
    "\n",
    "B10=float(160)+float(10)/60+float(10.1)/3600;\n",
    "L10=float(70)+float(10)/60+float(10.1)/3600;\n",
    "h10=float(1000);\n",
    "\n",
    "B11=float(170)+float(10)/60+float(10.1)/3600;\n",
    "L11= float(80)+float(10)/60+float(10.1)/3600;\n",
    "h11=float(1000);\n",
    "\n"
   ]
  },
  {
   "cell_type": "markdown",
   "metadata": {},
   "source": [
    "# DISCUSSION\n",
    "At the equator, an arc-second of longitude approximately equals an arc-second of latitude, which is 1/60th of a nautical mile (or 101.27 feet or 30.87 meters or cm accuracy) (https://www.esri.com/news/arcuser/0400/wdside.html, accessed 09/04/2019). So, with adding one decimal number behind the arc second we can get milimeter accuracy (i.e. point B3 lon 107d 3m 9.1s and lat -6d 55m 3.1s)."
   ]
  },
  {
   "cell_type": "code",
   "execution_count": 105,
   "metadata": {},
   "outputs": [
    {
     "name": "stdout",
     "output_type": "stream",
     "text": [
      "{'B1': 135.0, 'L1': 90.0, 'h1': 1000.0}\n",
      "{'B2': 45.0, 'L2': -90.0, 'h2': 1000.0}\n",
      "{'B3': 107.05252777777777, 'L3': 6.917527777777778, 'h3': 1000.0}\n",
      "{'B4': 100.16947222222223, 'L4': 10.002805555555556, 'h4': 1000.0}\n",
      "{'B5': 110.16947222222223, 'L5': 20.169472222222222, 'h5': 1000.0}\n",
      "{'B6': 120.16947222222223, 'L6': 30.169472222222222, 'h6': 1000.0}\n",
      "{'B7': 130.16947222222223, 'L7': 40.16947222222222, 'h7': 1000.0}\n",
      "{'B8': 140.16947222222223, 'L8': 50.16947222222222, 'h8': 1000.0}\n",
      "{'B9': 150.16947222222223, 'L9': 60.16947222222222, 'h9': 1000.0}\n",
      "{'B10': 160.16947222222223, 'L10': 70.16947222222223, 'h10': 1000.0}\n",
      "{'B11': 170.16947222222223, 'L11': 80.16947222222223, 'h11': 1000.0}\n"
     ]
    }
   ],
   "source": [
    "print ({'B1': B1, 'L1': L1, 'h1': h1})\n",
    "print ({'B2': B2, 'L2': L2, 'h2': h2})\n",
    "print ({'B3': B3, 'L3': L3, 'h3': h3})\n",
    "print ({'B4': B4, 'L4': L4, 'h4': h4})\n",
    "print ({'B5': B5, 'L5': L5, 'h5': h5})\n",
    "print ({'B6': B6, 'L6': L6, 'h6': h6})\n",
    "print ({'B7': B7, 'L7': L7, 'h7': h7})\n",
    "print ({'B8': B8, 'L8': L8, 'h8': h8})\n",
    "print ({'B9': B9, 'L9': L9, 'h9': h9})\n",
    "print ({'B10': B10, 'L10': L10, 'h10': h10})\n",
    "print ({'B11': B11, 'L11': L11, 'h11': h11})\n"
   ]
  },
  {
   "cell_type": "markdown",
   "metadata": {},
   "source": [
    "# ANSWER NO 2\n",
    "Coordinate Transformation to Geocentric Cartesian"
   ]
  },
  {
   "cell_type": "code",
   "execution_count": 106,
   "metadata": {},
   "outputs": [],
   "source": [
    "X1= (R+h)*np.cos(L1)*np.cos(B1);\n",
    "Y1= (R+h)*np.cos(L1)*np.sin(B1);\n",
    "Z1= (R+h)*np.sin(L1);\n",
    "\n",
    "X2= (R+h)*np.cos(L2)*np.cos(B2);\n",
    "Y2= (R+h)*np.cos(L2)*np.sin(B2);\n",
    "Z2= (R+h)*np.sin(L2);\n",
    "\n",
    "X3= (R+h)*np.cos(L3)*np.cos(B3);\n",
    "Y3= (R+h)*np.cos(L3)*np.sin(B3);\n",
    "Z3= (R+h)*np.sin(L3);\n",
    "\n",
    "X4= (R+h)*np.cos(L4)*np.cos(B4);\n",
    "Y4= (R+h)*np.cos(L4)*np.sin(B4);\n",
    "Z4= (R+h)*np.sin(L4);\n",
    "\n",
    "X5= (R+h)*np.cos(L5)*np.cos(B5);\n",
    "Y5= (R+h)*np.cos(L5)*np.sin(B5);\n",
    "Z5= (R+h)*np.sin(L5);\n",
    "\n",
    "X6= (R+h)*np.cos(L6)*np.cos(B6);\n",
    "Y6= (R+h)*np.cos(L6)*np.sin(B6);\n",
    "Z6= (R+h)*np.sin(L6);\n",
    "\n",
    "X7= (R+h)*np.cos(L7)*np.cos(B7);\n",
    "Y7= (R+h)*np.cos(L7)*np.sin(B7);\n",
    "Z7= (R+h)*np.sin(L7);\n",
    "\n",
    "X8= (R+h)*np.cos(L8)*np.cos(B8);\n",
    "Y8= (R+h)*np.cos(L8)*np.sin(B8);\n",
    "Z8= (R+h)*np.sin(L8);\n",
    "\n",
    "X9= (R+h)*np.cos(L9)*np.cos(B9);\n",
    "Y9= (R+h)*np.cos(L9)*np.sin(B9);\n",
    "Z9= (R+h)*np.sin(L9);\n",
    "\n",
    "X10= (R+h)*np.cos(L10)*np.cos(B10);\n",
    "Y10= (R+h)*np.cos(L10)*np.sin(B10);\n",
    "Z10= (R+h)*np.sin(L10);\n",
    "\n",
    "X11= (R+h)*np.cos(L11)*np.cos(B11);\n",
    "Y11= (R+h)*np.cos(L11)*np.sin(B11);\n",
    "Z11= (R+h)*np.sin(L11);\n"
   ]
  },
  {
   "cell_type": "code",
   "execution_count": 107,
   "metadata": {},
   "outputs": [
    {
     "name": "stdout",
     "output_type": "stream",
     "text": [
      "{'X1': 2843955.3619618476, 'L1': 2843955.3619618476, 'Z1': 5696546.740462755}\n",
      "{'X2': -1499859.9863865285, 'L2': -1499859.9863865285, 'Z2': -5696546.740462755}\n",
      "{'X3': 4987268.81102013, 'L3': 4987268.81102013, 'Z3': 3776353.233487764}\n",
      "{'X4': -4991898.488965275, 'L4': -4991898.488965275, 'Z4': -3481488.9379766183}\n",
      "{'X5': -1545897.3811677082, 'L5': -1545897.3811677082, 'Z5': 6172520.236411106}\n",
      "{'X6': 1430783.7174685558, 'L6': 1430783.7174685558, 'Z6': -6039767.8849804485}\n",
      "{'X7': 1023651.9682473342, 'L7': 1023651.9682473342, 'Z7': 3963074.312623704}\n",
      "{'X8': -2285315.457692702, 'L8': -2285315.457692702, 'Z8': -610837.7616931084}\n",
      "{'X9': -4578844.207773419, 'L9': -4578844.207773419, 'Z9': -2938001.1631807555}\n",
      "{'X10': -3141772.664155807, 'L10': -3141772.664155807, 'Z10': 5541224.018530075}\n",
      "{'X11': 324642.32291053724, 'L11': 324642.32291053724, 'Z11': -6360965.457185594}\n"
     ]
    }
   ],
   "source": [
    "print ({'X1': X1, 'L1': X1, 'Z1': Z1})\n",
    "print ({'X2': X2, 'L2': X2, 'Z2': Z2})\n",
    "print ({'X3': X3, 'L3': X3, 'Z3': Z3})\n",
    "print ({'X4': X4, 'L4': X4, 'Z4': Z4})\n",
    "print ({'X5': X5, 'L5': X5, 'Z5': Z5})\n",
    "print ({'X6': X6, 'L6': X6, 'Z6': Z6})\n",
    "print ({'X7': X7, 'L7': X7, 'Z7': Z7})\n",
    "print ({'X8': X8, 'L8': X8, 'Z8': Z8})\n",
    "print ({'X9': X9, 'L9': X9, 'Z9': Z9})\n",
    "print ({'X10': X10, 'L10': X10, 'Z10': Z10})\n",
    "print ({'X11': X11, 'L11': X11, 'Z11': Z11})\n"
   ]
  },
  {
   "cell_type": "markdown",
   "metadata": {},
   "source": [
    "# ANSWER NO 3\n",
    "# ADDING 1.5 arcsecond in Long and Lat and +50 m in Height"
   ]
  },
  {
   "cell_type": "code",
   "execution_count": 108,
   "metadata": {},
   "outputs": [],
   "source": [
    "B1n=float(135)+float(0)/60+float(1.5)/3600;\n",
    "L1n=float(90)+float(0)/60+float(1.5)/3600;\n",
    "h1n=float(1050);\n",
    "\n",
    "B2n=float(45)+float(0)/60+float(1.5)/3600;\n",
    "L2n= float(-90)+float(0)/60+float(1.5)/3600;\n",
    "h2n=float(1050);\n",
    "\n",
    "B3n=float(107)+float(3)/60+float(10.6)/3600;\n",
    "L3n= float(6)+float(55)/60+float(4.6)/3600;\n",
    "h3n=float(1050);\n",
    "\n",
    "B4n=float(100)+float(10)/60+float(11.6)/3600;\n",
    "L4n= float(10)+float(0)/60+float(11.6)/3600;\n",
    "h4n=float(1050);\n",
    "\n",
    "B5n=float(110)+float(10)/60+float(11.6)/3600;\n",
    "L5n= float(20)+float(10)/60+float(11.6)/3600;\n",
    "h5n=float(1050);\n",
    "\n",
    "B6n=float(120)+float(10)/60+float(11.6)/3600;\n",
    "L6n= float(30)+float(10)/60+float(11.6)/3600;\n",
    "h6n=float(1050);\n",
    "\n",
    "B7n=float(130)+float(10)/60+float(11.6)/3600;\n",
    "L7n= float(40)+float(10)/60+float(11.6)/3600;\n",
    "h7n=float(1050);\n",
    "\n",
    "B8n=float(140)+float(10)/60+float(11.6)/3600;\n",
    "L8n= float(50)+float(10)/60+float(11.6)/3600;\n",
    "h8n=float(1050);\n",
    "\n",
    "B9n=float(150)+float(10)/60+float(11.6)/3600;\n",
    "L9n= float(60)+float(10)/60+float(11.6)/3600;\n",
    "h9n=float(1050);\n",
    "\n",
    "B10n=float(160)+float(10)/60+float(11.6)/3600;\n",
    "L10n=float(70)+float(10)/60+float(11.6)/3600;\n",
    "h10n=float(1050);\n",
    "\n",
    "B11n=float(170)+float(10)/60+float(11.6)/3600;\n",
    "L11n= float(80)+float(10)/60+float(11.6)/3600;\n",
    "h11n=float(1050);\n"
   ]
  },
  {
   "cell_type": "code",
   "execution_count": 109,
   "metadata": {},
   "outputs": [
    {
     "name": "stdout",
     "output_type": "stream",
     "text": [
      "{'B1n': 135.00041666666667, 'L1n': 90.00041666666667, 'h1n': 1050.0}\n",
      "{'B2n': 45.000416666666666, 'L2n': -89.99958333333333, 'h2n': 1050.0}\n",
      "{'B3n': 107.05294444444444, 'L3n': 6.917944444444445, 'h3n': 1050.0}\n",
      "{'B4n': 100.16988888888889, 'L4n': 10.003222222222222, 'h4n': 1050.0}\n",
      "{'B5n': 110.16988888888889, 'L5n': 20.16988888888889, 'h5n': 1050.0}\n",
      "{'B6n': 120.16988888888889, 'L6n': 30.16988888888889, 'h6n': 1050.0}\n",
      "{'B7n': 130.1698888888889, 'L7n': 40.169888888888885, 'h7n': 1050.0}\n",
      "{'B8n': 140.1698888888889, 'L8n': 50.169888888888885, 'h8n': 1050.0}\n",
      "{'B9n': 150.1698888888889, 'L9n': 60.169888888888885, 'h9n': 1050.0}\n",
      "{'B10n': 160.1698888888889, 'L10n': 70.16988888888889, 'h10n': 1050.0}\n",
      "{'B11n': 170.1698888888889, 'L11n': 80.16988888888889, 'h11n': 1050.0}\n"
     ]
    }
   ],
   "source": [
    "print ({'B1n': B1n, 'L1n': L1n, 'h1n': h1n})\n",
    "print ({'B2n': B2n, 'L2n': L2n, 'h2n': h2n})\n",
    "print ({'B3n': B3n, 'L3n': L3n, 'h3n': h3n})\n",
    "print ({'B4n': B4n, 'L4n': L4n, 'h4n': h4n})\n",
    "print ({'B5n': B5n, 'L5n': L5n, 'h5n': h5n})\n",
    "print ({'B6n': B6n, 'L6n': L6n, 'h6n': h6n})\n",
    "print ({'B7n': B7n, 'L7n': L7n, 'h7n': h7n})\n",
    "print ({'B8n': B8n, 'L8n': L8n, 'h8n': h8n})\n",
    "print ({'B9n': B9n, 'L9n': L9n, 'h9n': h9n})\n",
    "print ({'B10n': B10n, 'L10n': L10n, 'h10n': h10n})\n",
    "print ({'B11n': B11n, 'L11n': L11n, 'h11n': h11n})\n"
   ]
  },
  {
   "cell_type": "markdown",
   "metadata": {},
   "source": [
    "#Coordinate Transformation to Geocentric Cartesian\n"
   ]
  },
  {
   "cell_type": "code",
   "execution_count": 110,
   "metadata": {},
   "outputs": [],
   "source": [
    "X1n= (R+h)*np.cos(L1n)*np.cos(B1n);\n",
    "Y1n= (R+h)*np.cos(L1n)*np.sin(B1n);\n",
    "Z1n= (R+h)*np.sin(L1n);\n",
    "\n",
    "X2n= (R+h)*np.cos(L2n)*np.cos(B2n);\n",
    "Y2n= (R+h)*np.cos(L2n)*np.sin(B2n);\n",
    "Z2n= (R+h)*np.sin(L2n);\n",
    "\n",
    "X3n= (R+h)*np.cos(L3n)*np.cos(B3n);\n",
    "Y3n= (R+h)*np.cos(L3n)*np.sin(B3n);\n",
    "Z3n= (R+h)*np.sin(L3n);\n",
    "\n",
    "X4n= (R+h)*np.cos(L4n)*np.cos(B4n);\n",
    "Y4n= (R+h)*np.cos(L4n)*np.sin(B4n);\n",
    "Z4n= (R+h)*np.sin(L4n);\n",
    "\n",
    "X5n= (R+h)*np.cos(L5n)*np.cos(B5n);\n",
    "Y5n= (R+h)*np.cos(L5n)*np.sin(B5n);\n",
    "Z5n= (R+h)*np.sin(L5n);\n",
    "\n",
    "X6n= (R+h)*np.cos(L6n)*np.cos(B6n);\n",
    "Y6n= (R+h)*np.cos(L6n)*np.sin(B6n);\n",
    "Z6n= (R+h)*np.sin(L6n);\n",
    "\n",
    "X7n= (R+h)*np.cos(L7n)*np.cos(B7n);\n",
    "Y7n= (R+h)*np.cos(L7n)*np.sin(B7n);\n",
    "Z7n= (R+h)*np.sin(L7n);\n",
    "\n",
    "X8n= (R+h)*np.cos(L8n)*np.cos(B8n);\n",
    "Y8n= (R+h)*np.cos(L8n)*np.sin(B8n);\n",
    "Z8n= (R+h)*np.sin(L8n);\n",
    "\n",
    "X9n= (R+h)*np.cos(L9n)*np.cos(B9n);\n",
    "Y9n= (R+h)*np.cos(L9n)*np.sin(B9n);\n",
    "Z9n= (R+h)*np.sin(L9n);\n",
    "\n",
    "X10n= (R+h)*np.cos(L10n)*np.cos(B10n);\n",
    "Y10n= (R+h)*np.cos(L10n)*np.sin(B10n);\n",
    "Z10n= (R+h)*np.sin(L10n);\n",
    "\n",
    "X11n= (R+h)*np.cos(L11n)*np.cos(B11n);\n",
    "Y11n= (R+h)*np.cos(L11n)*np.sin(B11n);\n",
    "Z11n= (R+h)*np.sin(L11n);\n"
   ]
  },
  {
   "cell_type": "code",
   "execution_count": 111,
   "metadata": {},
   "outputs": [
    {
     "name": "stdout",
     "output_type": "stream",
     "text": [
      "{'X1n': 2846424.35723011, 'Y1n': -251327.39043086852, 'Z1n': 5695356.610554459}\n",
      "{'X2n': -1497601.4189277843, 'Y2n': -2428040.3242075, 'Z2n': -5697735.881387257}\n",
      "{'X3n': 4985234.157679119, 'Y3n': 1213600.8765507552, 'Z3n': 3778491.406043501}\n",
      "{'X4n': -4991326.990521251, 'Y4n': 1884883.9268889031, 'Z4n': -3483712.3095700582}\n",
      "{'X5n': -1543244.1723552113, 'Y5n': -335625.773925691, 'Z5n': 6173178.821674329}\n",
      "{'X6n': 1431955.4628239602, 'Y6n': 1443370.2469243237, 'Z6n': -6038921.251579808}\n",
      "{'X7n': 1021955.0959559539, 'Y7n': 4885540.987973984, 'Z7n': 3960994.9553964133}\n",
      "{'X8n': -2287872.129334692, 'Y8n': 5915921.23336657, 'Z8n': -608194.9361973437}\n",
      "{'X9n': -4579233.999152126, 'Y9n': 3314709.8823000696, 'Z9n': -2940356.845213092}\n",
      "{'X10n': -3139534.1262528156, 'Y10n': 161314.25419624776, 'Z10n': 5542534.364484092}\n",
      "{'X11n': 326859.12861504365, 'Y11n': 188837.2260028877, 'Z11n': -6360808.723119769}\n"
     ]
    }
   ],
   "source": [
    "print ({'X1n': X1n, 'Y1n': Y1n, 'Z1n': Z1n})\n",
    "print ({'X2n': X2n, 'Y2n': Y2n, 'Z2n': Z2n})\n",
    "print ({'X3n': X3n, 'Y3n': Y3n, 'Z3n': Z3n})\n",
    "print ({'X4n': X4n, 'Y4n': Y4n, 'Z4n': Z4n})\n",
    "print ({'X5n': X5n, 'Y5n': Y5n, 'Z5n': Z5n})\n",
    "print ({'X6n': X6n, 'Y6n': Y6n, 'Z6n': Z6n})\n",
    "print ({'X7n': X7n, 'Y7n': Y7n, 'Z7n': Z7n})\n",
    "print ({'X8n': X8n, 'Y8n': Y8n, 'Z8n': Z8n})\n",
    "print ({'X9n': X9n, 'Y9n': Y9n, 'Z9n': Z9n})\n",
    "print ({'X10n': X10n, 'Y10n': Y10n, 'Z10n': Z10n})\n",
    "print ({'X11n': X11n, 'Y11n': Y11n, 'Z11n': Z11n})\n"
   ]
  },
  {
   "cell_type": "markdown",
   "metadata": {},
   "source": [
    "# ANSWER NO 4\n",
    "# COMPARE THE CARTESIAN COORDINATE DIFFERENCE"
   ]
  },
  {
   "cell_type": "code",
   "execution_count": 112,
   "metadata": {},
   "outputs": [],
   "source": [
    "dX1= X1n-X1;\n",
    "dY1= Y1n-Y1;\n",
    "dZ1= Z1n-Z1;\n",
    "\n",
    "dX2= X2n-X2;\n",
    "dY2= Y2n-Y2;\n",
    "dZ2= Z2n-Z2;\n",
    "\n",
    "dX3= X3n-X3;\n",
    "dY3= Y3n-Y3;\n",
    "dZ3= Z3n-Z3;\n",
    "\n",
    "dX4= X4n-X4;\n",
    "dY4= Y4n-Y4;\n",
    "dZ4= Z4n-Z4;\n",
    "\n",
    "dX5= X5n-X5;\n",
    "dY5= Y5n-Y5;\n",
    "dZ5= Z5n-Z5;\n",
    "\n",
    "dX6= X6n-X6;\n",
    "dY6= Y6n-Y6;\n",
    "dZ6= Z6n-Z6;\n",
    "\n",
    "dX7= X7n-X7;\n",
    "dY7= Y7n-Y7;\n",
    "dZ7= Z7n-Z7;\n",
    "\n",
    "dX8= X8n-X8;\n",
    "dY8= Y8n-Y8;\n",
    "dZ8= Z8n-Z8;\n",
    "\n",
    "dX9= X9n-X9;\n",
    "dY9= Y9n-Y9;\n",
    "dZ9= Z9n-Z9;\n",
    "\n",
    "dX10= X10n-X10;\n",
    "dY10= Y10n-Y10;\n",
    "dZ10= Z10n-Z10;\n",
    "\n",
    "dX11= X11n-X11;\n",
    "dY11= Y11n-Y11;\n",
    "dZ11= Z11n-Z11;\n",
    "\n"
   ]
  },
  {
   "cell_type": "code",
   "execution_count": 113,
   "metadata": {},
   "outputs": [
    {
     "name": "stdout",
     "output_type": "stream",
     "text": [
      "{'dX1': 2468.995268262457, 'dY1': 976.2617258479877, 'dZ1': -1190.1299082962796}\n",
      "{'dX2': 2258.567458744161, 'dY2': 1395.671030852478, 'dZ2': -1189.1409245021641}\n",
      "{'dX3': -2034.6533410111442, 'dY3': 1705.64075173554, 'dZ3': 2138.1725557371974}\n",
      "{'dX4': 571.4984440235421, 'dY4': -2592.761871158611, 'dZ4': -2223.3715934399515}\n",
      "{'dX5': 2653.2088124968577, 'dY5': -97.50686878286069, 'dZ5': 658.5852632233873}\n",
      "{'dX6': 1171.7453554044478, 'dY6': 2382.443580497522, 'dZ6': 846.6334006404504}\n",
      "{'dX7': -1696.8722913803067, 'dY7': 2041.9718457413837, 'dZ7': -2079.357227290515}\n",
      "{'dX8': -2556.6716419900768, 'dY8': -715.8594185318798, 'dZ8': 2642.825495764613}\n",
      "{'dX9': -389.79137870669365, 'dY9': -2626.2306207073852, 'dZ9': -2355.682032336481}\n",
      "{'dX10': 2238.5379029912874, 'dY10': -1427.5757944603392, 'dZ10': 1310.3459540167823}\n",
      "{'dX11': 2216.805704506405, 'dY11': 1461.094473511359, 'dZ11': 156.73406582511961}\n"
     ]
    }
   ],
   "source": [
    "print ({'dX1':dX1, 'dY1':dY1, 'dZ1':dZ1})\n",
    "print ({'dX2':dX2, 'dY2':dY2, 'dZ2':dZ2})\n",
    "print ({'dX3':dX3, 'dY3':dY3, 'dZ3':dZ3})\n",
    "print ({'dX4':dX4, 'dY4':dY4, 'dZ4':dZ4})\n",
    "print ({'dX5':dX5, 'dY5':dY5, 'dZ5':dZ5})\n",
    "print ({'dX6':dX6, 'dY6':dY6, 'dZ6':dZ6})\n",
    "print ({'dX7':dX7, 'dY7':dY7, 'dZ7':dZ7})\n",
    "print ({'dX8':dX8, 'dY8':dY8, 'dZ8':dZ8})\n",
    "print ({'dX9':dX9, 'dY9':dY9, 'dZ9':dZ9})\n",
    "print ({'dX10':dX10, 'dY10':dY10, 'dZ10':dZ10})\n",
    "print ({'dX11':dX11, 'dY11':dY11, 'dZ11':dZ11})\n"
   ]
  },
  {
   "cell_type": "markdown",
   "metadata": {},
   "source": [
    "\n",
    "# DISCUSSION\n",
    "The greatest difference in latitude appear in sub tropical area in around latitude 50 degree, and the smallest difference appeara in the area closer to North Pole in latitude 60 degree.\n",
    "While, The greatest difference in longitude appear in area near the north pole. On the other hand the smallest difference appear in between the equator and the sub tropical area in lon 110 degree and lat 20 degree.\n",
    "Furthemore, the greatest difference in height appear in sub tropical area with latitude 60 degree and the smallest different in height appear in south pole area.\n"
   ]
  },
  {
   "cell_type": "code",
   "execution_count": null,
   "metadata": {},
   "outputs": [],
   "source": []
  }
 ],
 "metadata": {
  "kernelspec": {
   "display_name": "Python 3",
   "language": "python",
   "name": "python3"
  },
  "language_info": {
   "codemirror_mode": {
    "name": "ipython",
    "version": 3
   },
   "file_extension": ".py",
   "mimetype": "text/x-python",
   "name": "python",
   "nbconvert_exporter": "python",
   "pygments_lexer": "ipython3",
   "version": "3.7.3"
  }
 },
 "nbformat": 4,
 "nbformat_minor": 2
}
