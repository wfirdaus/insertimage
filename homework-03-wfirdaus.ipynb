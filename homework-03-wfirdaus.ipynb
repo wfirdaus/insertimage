{
 "cells": [
  {
   "cell_type": "markdown",
   "metadata": {},
   "source": [
    "# Homework No. 3\n",
    "\n",
    "## Program description\n",
    "\n",
    "- Plots a circle in 2D using polar coordinates\n",
    "- Prints a table of polar coordinates using print"
   ]
  },
  {
   "cell_type": "markdown",
   "metadata": {},
   "source": [
    "### Importing required module"
   ]
  },
  {
   "cell_type": "code",
   "execution_count": null,
   "metadata": {},
   "outputs": [],
   "source": [
    "import math\n",
    "import numpy as np\n",
    "import pandas as pd\n",
    "import matplotlib.pyplot as plt\n",
    "\n",
    "# Plot figures inside the notebook\n",
    "%matplotlib inline"
   ]
  },
  {
   "cell_type": "markdown",
   "metadata": {},
   "source": [
    "Then initializing variables\n",
    "\n",
    "- $\\rho \\rightarrow$ conversion factor from radian to degree\n",
    "- $\\alpha \\rightarrow$ angle between 0 and $2 \\pi$ with 10 degree interval\n",
    "- $R \\rightarrow$ radius of the Earth (approximately 6371 km)"
   ]
  },
  {
   "cell_type": "code",
   "execution_count": null,
   "metadata": {},
   "outputs": [],
   "source": [
    "rho = 180 / math.pi\n",
    "alpha = np.arange(0, 2 * math.pi+0.1, math.pi/18.0)\n",
    "R = 6371"
   ]
  },
  {
   "cell_type": "markdown",
   "metadata": {},
   "source": [
    "Now convert polar coordinates into cartesian coordinates using below equations\n",
    "\n",
    "- $x = R \\cdot cos(\\alpha)$\n",
    "- $y = R \\cdot sin(\\alpha)$"
   ]
  },
  {
   "cell_type": "code",
   "execution_count": null,
   "metadata": {},
   "outputs": [],
   "source": [
    "x = R * np.cos(alpha)\n",
    "y = R * np.sin(alpha)"
   ]
  },
  {
   "cell_type": "markdown",
   "metadata": {},
   "source": [
    "Now convert alpha into degree"
   ]
  },
  {
   "cell_type": "code",
   "execution_count": null,
   "metadata": {},
   "outputs": [],
   "source": [
    "alpha_deg = alpha * rho"
   ]
  },
  {
   "cell_type": "markdown",
   "metadata": {},
   "source": [
    "Now make a Panda DataFrame"
   ]
  },
  {
   "cell_type": "code",
   "execution_count": null,
   "metadata": {},
   "outputs": [],
   "source": [
    "results = pd.DataFrame({'alpha_deg': alpha_deg, 'x': x, 'y': y})"
   ]
  },
  {
   "cell_type": "markdown",
   "metadata": {},
   "source": [
    "Print the data frame with 2 decimal points"
   ]
  },
  {
   "cell_type": "code",
   "execution_count": null,
   "metadata": {},
   "outputs": [],
   "source": [
    "pd.options.display.float_format = '{:,.3f}'.format\n",
    "print(results)"
   ]
  },
  {
   "cell_type": "markdown",
   "metadata": {},
   "source": [
    "Or you can print in more manual way like this"
   ]
  },
  {
   "cell_type": "code",
   "execution_count": null,
   "metadata": {},
   "outputs": [],
   "source": [
    "print(\"\")\n",
    "print(\"Homework #1 by Jinha Jung\")\n",
    "print(\"\")\n",
    "print(\"Table with circle coordinates\")\n",
    "print(\"\")\n",
    "print(\"Radius = %d km\" % (R))\n",
    "print(\"\")\n",
    "print(\"---------------------------------------------\")\n",
    "print(\"  alpha(degree)         X(km)          Y(km)\")\n",
    "for i in range(len(results)):\n",
    "    print(\"%14.0f %14.3f %14.3f\" % (results['alpha_deg'][i], results['x'][i], results['y'][i]))\n",
    "print(\"---------------------------------------------\")\n"
   ]
  },
  {
   "cell_type": "markdown",
   "metadata": {},
   "source": [
    "Now let's plot the graph"
   ]
  },
  {
   "cell_type": "code",
   "execution_count": null,
   "metadata": {},
   "outputs": [],
   "source": [
    "fig, ax = plt.subplots(figsize=(6,6))\n",
    "ax.plot(x,y, 'go')\n",
    "ax.axis('equal')\n",
    "ax.grid(True, alpha=0.4, linestyle='--')\n",
    "ax.set_xlabel('X (km)', fontsize=12, fontweight='bold')\n",
    "ax.set_ylabel('Y (km)', fontsize=12, fontweight='bold')\n",
    "ax.set_title('CE 597 Homework #1 - Jinha Jung', fontsize=16, fontweight=\"bold\")"
   ]
  },
  {
   "cell_type": "code",
   "execution_count": null,
   "metadata": {},
   "outputs": [],
   "source": []
  }
 ],
 "metadata": {
  "kernelspec": {
   "display_name": "geodesy",
   "language": "python",
   "name": "geodesy"
  },
  "language_info": {
   "codemirror_mode": {
    "name": "ipython",
    "version": 3
   },
   "file_extension": ".py",
   "mimetype": "text/x-python",
   "name": "python",
   "nbconvert_exporter": "python",
   "pygments_lexer": "ipython3",
   "version": "3.7.4"
  }
 },
 "nbformat": 4,
 "nbformat_minor": 2
}
